{
 "cells": [
  {
   "cell_type": "code",
   "execution_count": 1,
   "metadata": {},
   "outputs": [],
   "source": [
    "import h5py as h5\n",
    "from PreFRBLE.convenience import *\n",
    "from PreFRBLE.plot import *"
   ]
  },
  {
   "cell_type": "code",
   "execution_count": 2,
   "metadata": {},
   "outputs": [],
   "source": [
    "def WeighBayes( B, w ):\n",
    "    w_log = np.log10(w)\n",
    "    return 10.**( np.log10(B) * (1+np.abs(w_log))**(1 - 2*(w_log<0) - (w_log==0) )  ) "
   ]
  },
  {
   "cell_type": "code",
   "execution_count": 3,
   "metadata": {},
   "outputs": [
    {
     "data": {
      "text/plain": [
       "array([ 0.1       ,  0.21544347,  0.46415888,  1.        ,  2.15443469,\n",
       "        4.64158883, 10.        ])"
      ]
     },
     "execution_count": 3,
     "metadata": {},
     "output_type": "execute_result"
    }
   ],
   "source": [
    "WeighBayes( 10.**np.arange(-3,4), 0.01 )"
   ]
  },
  {
   "cell_type": "code",
   "execution_count": null,
   "metadata": {},
   "outputs": [],
   "source": []
  },
  {
   "cell_type": "code",
   "execution_count": 79,
   "metadata": {},
   "outputs": [
    {
     "data": {
      "text/plain": [
       "([<matplotlib.axis.YTick at 0x7fa4c73f4400>,\n",
       "  <matplotlib.axis.YTick at 0x7fa4c73f2cf8>,\n",
       "  <matplotlib.axis.YTick at 0x7fa4c73fba20>,\n",
       "  <matplotlib.axis.YTick at 0x7fa4c7408dd8>,\n",
       "  <matplotlib.axis.YTick at 0x7fa4c740b320>,\n",
       "  <matplotlib.axis.YTick at 0x7fa4c740b828>,\n",
       "  <matplotlib.axis.YTick at 0x7fa4c740bd30>,\n",
       "  <matplotlib.axis.YTick at 0x7fa4c7410278>,\n",
       "  <matplotlib.axis.YTick at 0x7fa4c740be10>],\n",
       " <a list of 9 Text yticklabel objects>)"
      ]
     },
     "execution_count": 79,
     "metadata": {},
     "output_type": "execute_result"
    },
    {
     "data": {
      "image/png": "[encoded data removed]",
      "text/plain": [
       "<Figure size 432x288 with 1 Axes>"
      ]
     },
     "metadata": {
      "needs_background": "light"
     },
     "output_type": "display_data"
    }
   ],
   "source": [
    "N=100\n",
    "n=np.arange(N)/5\n",
    "a=np.arange(N).repeat(3).reshape(N,3)\n",
    "\n",
    "a = np.array([np.sin(n), np.cos(n), np.sin(n)*np.cos(n)]).transpose()\n",
    "\n",
    "x = np.round(np.arange(0.5,1.4,0.1),1)\n",
    "y = np.arange(-1,2)\n",
    "y_labels = ['A','B','C']\n",
    "\n",
    "\n",
    "plt.imshow( a, cmap=rainbow, extent=[0,30,0,50] )\n",
    "plt.xticks( [5,15,25], y_labels )\n",
    "plt.yticks( np.linspace(2,48,len(x)), x )"
   ]
  },
  {
   "cell_type": "code",
   "execution_count": 82,
   "metadata": {},
   "outputs": [],
   "source": [
    "plt.imshow?\n",
    "from matplotlib.colors import LogNorm\n",
    "LogNorm?"
   ]
  },
  {
   "cell_type": "code",
   "execution_count": 69,
   "metadata": {},
   "outputs": [
    {
     "data": {
      "text/plain": [
       "<matplotlib.image.AxesImage at 0x7fa4c75d2e10>"
      ]
     },
     "execution_count": 69,
     "metadata": {},
     "output_type": "execute_result"
    },
    {
     "data": {
      "image/png": "[encoded data removed]",
      "text/plain": [
       "<Figure size 432x288 with 1 Axes>"
      ]
     },
     "metadata": {
      "needs_background": "light"
     },
     "output_type": "display_data"
    }
   ],
   "source": [
    "plt.imshow(np.random.rand(3,50), aspect='equal', extent=[0,50,0,50])"
   ]
  }
 ],
 "metadata": {
  "kernelspec": {
   "display_name": "Python 3",
   "language": "python",
   "name": "python3"
  },
  "language_info": {
   "codemirror_mode": {
    "name": "ipython",
    "version": 3
   },
   "file_extension": ".py",
   "mimetype": "text/x-python",
   "name": "python",
   "nbconvert_exporter": "python",
   "pygments_lexer": "ipython3",
   "version": "3.4.3"
  }
 },
 "nbformat": 4,
 "nbformat_minor": 2
}
