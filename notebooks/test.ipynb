{
 "cells": [
  {
   "cell_type": "code",
   "execution_count": 13,
   "metadata": {},
   "outputs": [],
   "source": [
    "import h5py as h5\n",
    "from PreFRBLE.convenience import *\n",
    "from PreFRBLE.plot import *"
   ]
  },
  {
   "cell_type": "code",
   "execution_count": 18,
   "metadata": {},
   "outputs": [
    {
     "name": "stdout",
     "output_type": "stream",
     "text": [
      "<KeysViewHDF5 ['P', 'x']>\n",
      "0.015385434089966574\n",
      "1.0000000000000004\n",
      "1.0000000000000004\n",
      "1.0000000000000004\n",
      "1.0000000000000004\n"
     ]
    },
    {
     "data": {
      "image/png": "[encoded data removed]",
      "text/plain": [
       "<Figure size 432x288 with 1 Axes>"
      ]
     },
     "metadata": {
      "needs_background": "light"
     },
     "output_type": "display_data"
    }
   ],
   "source": [
    "with h5.File( likelihood_file_IGM, 'r' ) as f:\n",
    "    print( f['alpha1-3rd/far/4/|RM|/0.1000'].keys() )\n",
    "    \n",
    "    P, x = [f['primordial/far/4/DM/0.1000/%s' % axis] for axis in ['P','x']]\n",
    "    \n",
    "    print(P[27])\n",
    "    \n",
    "    print(np.sum(P*np.diff(x)))\n",
    "    print(np.sum(P[()]*np.diff(x[()])))\n",
    "    \n",
    "    PlotLikelihood( x=x, P=P )\n",
    "    \n",
    "    print(np.sum(P*np.diff(x)))\n",
    "    print(np.sum(P[()]*np.diff(x[()])))\n",
    "        \n",
    "    "
   ]
  },
  {
   "cell_type": "code",
   "execution_count": null,
   "metadata": {},
   "outputs": [],
   "source": []
  },
  {
   "cell_type": "code",
   "execution_count": null,
   "metadata": {},
   "outputs": [],
   "source": []
  },
  {
   "cell_type": "code",
   "execution_count": 21,
   "metadata": {},
   "outputs": [
    {
     "name": "stdout",
     "output_type": "stream",
     "text": [
      "[1. 1. 1.]\n"
     ]
    }
   ],
   "source": [
    "a = np.ones(3)\n",
    "def f(a):\n",
    "    b= a.copy()\n",
    "    b*=2\n",
    "\n",
    "f(a)    \n",
    "print(a)"
   ]
  },
  {
   "cell_type": "code",
   "execution_count": 5,
   "metadata": {},
   "outputs": [
    {
     "data": {
      "text/plain": [
       "<Closed HDF5 dataset>"
      ]
     },
     "execution_count": 5,
     "metadata": {},
     "output_type": "execute_result"
    }
   ],
   "source": []
  }
 ],
 "metadata": {
  "kernelspec": {
   "display_name": "Python 3",
   "language": "python",
   "name": "python3"
  },
  "language_info": {
   "codemirror_mode": {
    "name": "ipython",
    "version": 3
   },
   "file_extension": ".py",
   "mimetype": "text/x-python",
   "name": "python",
   "nbconvert_exporter": "python",
   "pygments_lexer": "ipython3",
   "version": "3.4.3"
  }
 },
 "nbformat": 4,
 "nbformat_minor": 2
}
