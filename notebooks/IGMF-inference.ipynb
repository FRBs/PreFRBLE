{
 "cells": [
  {
   "cell_type": "code",
   "execution_count": 1,
   "metadata": {},
   "outputs": [],
   "source": [
    "from PreFRBLE.convenience import *\n",
    "from PreFRBLE.estimate_redshift import *\n",
    "from PreFRBLE.plot import *\n",
    "from PreFRBLE.likelihood import *\n",
    "from PreFRBLE.physics import *\n",
    "from PreFRBLE.sample import *"
   ]
  },
  {
   "cell_type": "markdown",
   "metadata": {},
   "source": [
    "## Inference of intergalactic magnetic field\n",
    "Here we infer the index $\\alpha$ relation magnetic field strength to over-density in the IGM (see _notebooks/model/IGM.ipynb_)\n",
    "$$|B|\\propto \\rho^\\alpha .$$\n",
    "This is done by a combined inference of DM and RM, obtaining the likelihood of source redshift from DM (see _notebooks/RedshiftEstimate.ipynb_) providing more detailed investigation of the likelihood of $\\alpha$ from RM.\n",
    "Thus, our approach exploits the full information entailed in each measure instead of reducing to their ratio. \n",
    "Comparing estimates of different choices of $\\alpha$ in our benchmark scenario, we show that FRBs potentially probe the IGMF down to current lower limits set by Neronov & Vovk 2011.\n",
    "\n",
    "Since RM depends on IGM baryon content $f_{\\rm IGM}$, just as DM does (see _notebooks/joint-analysis__fIGM-population.ipynb_), the combined inference of $\\alpha$ and $f_{\\rm IGM}$ is erratic.\n",
    "We thus consider the case that a good estimate on $f_{\\rm IGM} \\approx 0.9$ is provided by the much richer sample of FRB observed without reasonable extragalactic RM.\n",
    "Further, for the case of such high $f_{\\rm IGM}$ we found the redshift distribution following SMD to produce the best results, thus assume this here too.\n",
    "\n",
    "Since no sufficient sample of FRBs with RM is available as of yet, we investigate the required size of that sample to improve on current constraints on the IGMF.\n"
   ]
  },
  {
   "cell_type": "code",
   "execution_count": 2,
   "metadata": {},
   "outputs": [],
   "source": [
    "## realistic benchmark scenario\n",
    "from PreFRBLE.Scenario import scenario_benchmark as scenario\n",
    "\n",
    "## investigated range of alpha\n",
    "alphas = np.arange(1.,9.1,1.0)/3\n"
   ]
  },
  {
   "cell_type": "code",
   "execution_count": 3,
   "metadata": {
    "scrolled": true
   },
   "outputs": [
    {
     "name": "stderr",
     "output_type": "stream",
     "text": [
      "/data/prefrble/PreFRBLE/venv_PreFRBLE/lib/python3.4/site-packages/PreFRBLE/LikelihoodFunction.py:176: RuntimeWarning: divide by zero encountered in power\n",
      "  self.dev =  ( self.Probability()*N )**-0.5\n"
     ]
    },
    {
     "name": "stdout",
     "output_type": "stream",
     "text": [
      "LikelihoodCombined took 0.4156804084777832 s\n"
     ]
    },
    {
     "data": {
      "text/plain": [
       "array([1.37786214e-08, 1.35271029e-08])"
      ]
     },
     "execution_count": 3,
     "metadata": {},
     "output_type": "execute_result"
    }
   ],
   "source": [
    "tmp = Scenario( telescope='CHIME', population='SMD', **scenario.Properties( identifier=False ) )\n",
    "DMs=[200.,300.]\n",
    "RMs = [10.,20.]\n",
    "TimeElapsed( LikelihoodCombined,  measures=['DM','RM'], datas=[DMs,RMs], scenario=tmp, measureable=True )"
   ]
  },
  {
   "cell_type": "markdown",
   "metadata": {},
   "source": [
    "Assuming $f_{\\rm IGM} = 0.9$, $\\alpha=9/3$ and population=SMD, we use mock catalogs of increasing size to see how many FRBs observed with CHIME are required to derive an upper limit on the IGMF-density-relation $\\alpha$.\n"
   ]
  },
  {
   "cell_type": "code",
   "execution_count": 4,
   "metadata": {},
   "outputs": [],
   "source": [
    "from multiprocessing import Pool\n",
    "from functools import partial\n",
    "\n",
    "## first define a picklable function\n",
    "def MockIGMF( N, measureable=True, scenario=False):\n",
    "    \n",
    "    ## prepare mock sample\n",
    "    FRBs_mock = FakeFRBs( measures=['DM','RM'], N=N, measureable=measureable, scenario=scenario )\n",
    "    DMs, RMs, zs = [FRBs_mock[v] for v in ['DM','RM', 'redshift'] ]\n",
    "\n",
    "    ## container for results\n",
    "    bayes = np.zeros_like(alphas)\n",
    "    \n",
    "    ## compute likelihood for reference model\n",
    "    P0 = LikelihoodCombined( measures=['DM','RM'], datas=[DMs,RMs], scenario=scenario, measureable=measureable )\n",
    "    \n",
    "    ## compare to likelihood for different choices of alpha\n",
    "    for i_a, alpha in enumerate( alphas ):\n",
    "        tmp = scenario.copy()\n",
    "        tmp.IGM = 'alpha{:.0f}-3rd'.format(alpha*3)\n",
    "        bayes[i_a] = 1 if tmp == scenario else np.prod( LikelihoodCombined( measures=['DM','RM'], datas=[DMs,RMs], scenario=tmp, measureable=measureable ) / P0 )\n",
    "\n",
    "    return bayes\n"
   ]
  },
  {
   "cell_type": "markdown",
   "metadata": {},
   "source": [
    "#### !!! this takes a little while"
   ]
  },
  {
   "cell_type": "code",
   "execution_count": 5,
   "metadata": {},
   "outputs": [
    {
     "name": "stderr",
     "output_type": "stream",
     "text": [
      "  0%|          | 0/3 [00:00<?, ?it/s]/data/prefrble/PreFRBLE/venv_PreFRBLE/lib/python3.4/site-packages/PreFRBLE/LikelihoodFunction.py:176: RuntimeWarning: divide by zero encountered in power\n",
      "  self.dev =  ( self.Probability()*N )**-0.5\n",
      "/data/prefrble/PreFRBLE/venv_PreFRBLE/lib/python3.4/site-packages/PreFRBLE/LikelihoodFunction.py:176: RuntimeWarning: divide by zero encountered in power\n",
      "  self.dev =  ( self.Probability()*N )**-0.5\n",
      "100%|██████████| 3/3 [02:35<00:00, 51.85s/it]\n"
     ]
    }
   ],
   "source": [
    "\n",
    "\n",
    "alpha = 9./3\n",
    "population = 'SMD'\n",
    "telescope = 'CHIME'\n",
    "\n",
    "\n",
    "scenario_ref = Scenario( telescope=telescope, population=population, **scenario.Properties(identifier=False) )\n",
    "scenario_ref.IGM = 'alpha{:.0f}-3rd'.format(alpha*3)\n",
    "\n",
    "tries = 2 #10 # number of repetitions to obtain error on bayes factors\n",
    "N_N = 3 #10  # number of steps\n",
    "N_min, N_max = 1, 3.5 #4.5 ## log ## min and max step\n",
    "Ns = (10.**np.linspace(N_min,N_max,N_N)).astype('i')\n",
    "\n",
    "measureable = True # consider that RM < RM_min are not observable?\n",
    "\n",
    "Bayes = np.zeros( [ len(alphas), len(Ns) ] )\n",
    "Bayes_dev = np.zeros( [ 2, len(alphas), len(Ns) ] )\n",
    "\n",
    "p = Pool(2)\n",
    "f = partial( MockIGMF, scenario=scenario_ref )\n",
    "\n",
    "\n",
    "#for i_N, N in enumerate(Ns):\n",
    "for i_N in trange(len(Ns )):\n",
    "    N = Ns[i_N]\n",
    "    bayes = p.map( f, [N]*tries )\n",
    "    bayes = np.array(bayes).T\n",
    "    Bayes[:,i_N], Bayes_dev[:,:,i_N] = LogMeanStd( bayes, axis=1 )"
   ]
  },
  {
   "cell_type": "code",
   "execution_count": 6,
   "metadata": {},
   "outputs": [
    {
     "data": {
      "image/png": "[encoded data removed]",
      "text/plain": [
       "<Figure size 432x288 with 2 Axes>"
      ]
     },
     "metadata": {
      "needs_background": "light"
     },
     "output_type": "display_data"
    }
   ],
   "source": [
    "## plot results\n",
    "\n",
    "fig, ax = plt.subplots()\n",
    "plt.loglog()\n",
    "for i_a, color in enumerate( Rainbow(alphas) ):\n",
    "    if i_a % 2:\n",
    "        continue\n",
    "    plt.errorbar( Ns*(1-0.15+0.03*i_a), Bayes[i_a], yerr=Bayes_dev[:,i_a], color=color, alpha=0.5, lw=3 )\n",
    "    alpha = alphas[i_a]\n",
    "\n",
    "    \n",
    "#for x, y, alpha in zip( [2e1, 2e2, 1e3, 5e3], [1e-6,1e-6,1e-6,1e-6],  alphas[alphas<5./3] ):\n",
    "#    plt.text( x, y, r\"$\\alpha=\\frac{{{:.0f}}}{{3}}$\".format(alpha*3), fontsize=16)    \n",
    "#plt.text( 3e3, 1e-1, r\"$\\alpha \\geq \\frac{{5}}{{3}}$\", fontsize=16)    \n",
    "\n",
    "Colorbar( alphas, label=r\"$\\alpha$\" )\n",
    "plt.xlabel( r\"$N_{\\rm FRB}$\", fontdict={'size':18 } )\n",
    "plt.ylabel( r\"$\\mathcal{B}$\", fontdict={'size':18 } )\n",
    "plt.ylim(1e-6,2)\n",
    "#PlotLimit(ax=ax, x=[Ns[0],Ns[-1]], y=[1e-2,1e-2], lower_limit=False, label='ruled out', arrow_number=3, shift_text_vertical=-9e-3, shift_text_horizontal=-8.99e2)\n",
    "ax.tick_params(axis='both', which='major', labelsize=16)\n",
    "AllSidesTicks(ax)\n",
    "plt.show()"
   ]
  },
  {
   "cell_type": "code",
   "execution_count": 7,
   "metadata": {},
   "outputs": [
    {
     "data": {
      "text/plain": [
       "array([[6.88942885e+000, 6.95314891e+016, 1.24702182e+293],\n",
       "       [5.13792632e+000, 2.49127605e+010, 8.81062700e+185],\n",
       "       [2.30752326e+000, 5.98242935e+006, 3.82757634e+121],\n",
       "       [2.29298258e+000, 3.38754266e+004, 3.77990563e+080],\n",
       "       [1.72742570e+000, 5.31843302e+002, 4.26173114e+052],\n",
       "       [1.21666693e+000, 7.69404105e+001, 4.71742403e+031],\n",
       "       [1.03389926e+000, 7.75807239e+000, 4.30292246e+014],\n",
       "       [1.41413835e+000, 6.84950810e+000, 6.74940593e+011],\n",
       "       [1.00000000e+000, 1.00000000e+000, 1.00000000e+000]])"
      ]
     },
     "execution_count": 7,
     "metadata": {},
     "output_type": "execute_result"
    }
   ],
   "source": [
    "Bayes"
   ]
  },
  {
   "cell_type": "code",
   "execution_count": 37,
   "metadata": {
    "scrolled": true
   },
   "outputs": [
    {
     "data": {
      "image/png": "[encoded data removed]",
      "text/plain": [
       "<Figure size 432x288 with 2 Axes>"
      ]
     },
     "metadata": {
      "needs_background": "light"
     },
     "output_type": "display_data"
    }
   ],
   "source": [
    "## plot results\n",
    "\n",
    "fig, ax = plt.subplots()\n",
    "plt.loglog()\n",
    "for i_a, color in enumerate( Rainbow(alphas) ):\n",
    "    if i_a % 2:\n",
    "        continue\n",
    "    plt.errorbar( Ns*(1-0.15+0.03*i_a), Bayes[i_a], yerr=Bayes_std[:,i_a], color=color, alpha=0.5, lw=3 )\n",
    "    alpha = alphas[i_a]\n",
    "\n",
    "    \n",
    "#for x, y, alpha in zip( [2e1, 2e2, 1e3, 5e3], [1e-6,1e-6,1e-6,1e-6],  alphas[alphas<5./3] ):\n",
    "#    plt.text( x, y, r\"$\\alpha=\\frac{{{:.0f}}}{{3}}$\".format(alpha*3), fontsize=16)    \n",
    "#plt.text( 3e3, 1e-1, r\"$\\alpha \\geq \\frac{{5}}{{3}}$\", fontsize=16)    \n",
    "\n",
    "Colorbar( alphas, label=r\"$\\alpha$\" )\n",
    "plt.xlabel( r\"$N_{\\rm FRB}$\", fontdict={'size':18 } )\n",
    "plt.ylabel( r\"$\\mathcal{B}$\", fontdict={'size':18 } )\n",
    "plt.ylim(1e-6,2)\n",
    "PlotLimit(ax=ax, x=[Ns[0],Ns[-1]], y=[1e-2,1e-2], lower_limit=False, label='ruled out', arrow_number=3, shift_text_vertical=-9e-3, shift_text_horizontal=-8.99e2)\n",
    "ax.tick_params(axis='both', which='major', labelsize=16)\n",
    "AllSidesTicks(ax)\n",
    "plt.show()"
   ]
  },
  {
   "cell_type": "markdown",
   "metadata": {},
   "source": [
    "Here is shown the resulting Bayes factor $\\mathcal{B}$, comparing given value of $\\alpha$ to $\\alpha=\\frac[9}{3}$, as function of mock sample size.\n",
    "We assume all $\\alpha$ to be equal likely, thus $\\mathcal{B}$ also represents the ratio of posterior.\n",
    "Thus, for $\\mathcal(\\alpha) < 10^{-2}$, $\\alpha$ is ruled out decisively with 99% certainty.\n",
    "The result shows that 1000-2000 FRBs at least have to be observed with $\\rm RM_{EG} \\geq 1 ~rad ~m^{-2}$ in order to to rule out $\\alpha=\\frac{1}{3}$, which corresponds to strongest IGMFs.\n",
    "Thus, more than a thousand FRBS with $\\rm RM_{EG} > 1 ~ rad~ m^{-2}$ mneed tobe observed in order to improve on current limits on the IGMF.\n",
    "However, most values of $\\alpha < \\frac{9}{3}$ can likely be ruled out with few $10^4$, certainly with $10^5$ FRBs with reasonable extragalactic RM.\n",
    "Obviously, this conclusion higly depends on the assumptions and might change considering different models.\n",
    "Still, it certainly shows the potential of FRBs to constrain the IGMF with unprecedented precision, once SKA provides a huge sample of systematically observed FRBs."
   ]
  },
  {
   "cell_type": "code",
   "execution_count": null,
   "metadata": {},
   "outputs": [],
   "source": []
  }
 ],
 "metadata": {
  "kernelspec": {
   "display_name": "Python 3",
   "language": "python",
   "name": "python3"
  },
  "language_info": {
   "codemirror_mode": {
    "name": "ipython",
    "version": 3
   },
   "file_extension": ".py",
   "mimetype": "text/x-python",
   "name": "python",
   "nbconvert_exporter": "python",
   "pygments_lexer": "ipython3",
   "version": "3.4.3"
  }
 },
 "nbformat": 4,
 "nbformat_minor": 2
}
