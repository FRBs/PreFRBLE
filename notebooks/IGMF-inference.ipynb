{
 "cells": [
  {
   "cell_type": "code",
   "execution_count": 2,
   "metadata": {},
   "outputs": [],
   "source": [
    "from PreFRBLE.convenience import *\n",
    "from PreFRBLE.estimate_redshift import *\n",
    "from PreFRBLE.plot import *\n",
    "from PreFRBLE.likelihood import *\n",
    "from PreFRBLE.physics import *\n",
    "from PreFRBLE.sample import *"
   ]
  },
  {
   "cell_type": "markdown",
   "metadata": {},
   "source": [
    "## Inference of intergalactic magnetic field\n",
    "Here we infer the index $\\alpha$ relation magnetic field strength to over-density in the IGM (see notebook model/IGMF)\n",
    "$$|B|\\propto \\rho^\\alpha .$$\n",
    "This is done by a combined inference of DM and RM, obtaining the likelihood of source redshift from DM providing more detailed investigation of the likelihood of $\\alpha$ from RM.\n",
    "Thus, our approach exploits the full information entailed in each measure instead of reducing to their ratio. \n",
    "Comparing estimates of different choices of $\\alpha$ in our benchmark scenario, we show that FRBs potentially probe the IGMF dotn to current lower limits set by Neronov & Vovk 2011.\n",
    "\n",
    "Though RM depends on IGM baryon content $f_{\\gm IGM}$ just as DM does (cf. notebook joint-analysis f_IGM population), the combined inference of $\\alpha$ and $f_{\\rm IGM}$ is erratic.\n",
    "We thus consider the case that a good estimate on $f_{\\rm IGM} \\approx 0.9$ is provided by the much richer sample of FRB observed without reasonable extragalactic RM.\n",
    "Further, for the case of such high $f_{\\rm IGM}$ we found the redshift distribution following SMD to produce the best results, thus assume this here too.\n",
    "\n",
    "Since no sufficient sample of FRBs with RM is available as of yet, we investigate the required size of that sample to improve on current constraints on the IGMF.\n"
   ]
  },
  {
   "cell_type": "code",
   "execution_count": 3,
   "metadata": {},
   "outputs": [],
   "source": [
    "## realistic benchmark scenario\n",
    "scenario = {\n",
    "    'IGM' : ['primordial'],\n",
    "    'Host' : ['Rodrigues18'],\n",
    "    'Inter' : ['Rodrigues18'],\n",
    "    'Local' : ['Piro18/wind'],\n",
    "    'N_inter' : True\n",
    "}\n",
    "\n",
    "## investigated range of alpha\n",
    "alphas = np.arange(1.,9.1,1.0)/3\n"
   ]
  },
  {
   "cell_type": "markdown",
   "metadata": {},
   "source": [
    "Assuming $f_{\\rm IGM} = 0.9$, $\\alpha=9/3$ and population=SMD, we use mock catalogs of increasing size to see how many FRBs observed with CHIME are required to derive an upper limit on the IGMF-density-relation $\\alpha$.\n",
    "#### !!! this takes a little while"
   ]
  },
  {
   "cell_type": "code",
   "execution_count": 9,
   "metadata": {
    "scrolled": true
   },
   "outputs": [
    {
     "name": "stderr",
     "output_type": "stream",
     "text": [
      "\r",
      "tries for N=10:   0%|          | 0/10 [00:00<?, ?it/s]"
     ]
    },
    {
     "name": "stdout",
     "output_type": "stream",
     "text": [
      "{'N_inter': True, 'Host': ['Rodrigues18'], 'Inter': ['Rodrigues18'], 'IGM': ['alpha9-3rd_C900'], 'Local': ['Piro18/wind']}\n"
     ]
    },
    {
     "name": "stderr",
     "output_type": "stream",
     "text": [
      "/data/PreFRBLE/venv_PreFRBLE/lib/python3.4/site-packages/PreFRBLE/likelihood.py:66: RuntimeWarning: divide by zero encountered in power\n",
      "  res =  ( P*np.diff(x)*N )**-0.5\n",
      "/data/PreFRBLE/venv_PreFRBLE/lib/python3.4/site-packages/PreFRBLE/likelihood.py:267: RuntimeWarning: invalid value encountered in double_scalars\n",
      "  dev[ib] += add**2 * ( np.sum( ( devs[i_f][ix]*f[ix]*np.diff(x_) )**2 ) /np.sum( ( f[ix]*np.diff(x_) )**2 )  + dev_weights[i_f]**2 )\n",
      "tries for N=10: 100%|██████████| 10/10 [01:22<00:00,  8.28s/it]\n",
      "tries for N=27: 100%|██████████| 10/10 [01:23<00:00,  8.30s/it]\n",
      "tries for N=77: 100%|██████████| 10/10 [01:24<00:00,  8.44s/it]\n",
      "tries for N=215: 100%|██████████| 10/10 [01:26<00:00,  8.66s/it]\n",
      "tries for N=599: 100%|██████████| 10/10 [01:35<00:00,  9.52s/it]\n",
      "tries for N=1668: 100%|██████████| 10/10 [01:57<00:00, 11.72s/it]\n",
      "tries for N=4641: 100%|██████████| 10/10 [02:59<00:00, 17.96s/it]\n",
      "tries for N=12915: 100%|██████████| 10/10 [05:56<00:00, 35.67s/it]\n",
      "tries for N=35938: 100%|██████████| 10/10 [14:09<00:00, 84.96s/it]\n",
      "tries for N=100000:  20%|██        | 2/10 [07:25<29:43, 222.89s/it]/data/PreFRBLE/venv_PreFRBLE/lib/python3.4/site-packages/PreFRBLE/likelihood.py:1166: RuntimeWarning: invalid value encountered in true_divide\n",
      "  result_dev = np.sqrt( result_dev ) / result\n",
      "tries for N=100000: 100%|██████████| 10/10 [39:47<00:00, 238.72s/it]\n",
      "/data/PreFRBLE/venv_PreFRBLE/lib/python3.4/site-packages/PreFRBLE/physics.py:406: RuntimeWarning: divide by zero encountered in log10\n",
      "  mean_log = np.mean( np.log10( data ), axis=axis )\n",
      "/data/PreFRBLE/venv_PreFRBLE/lib/python3.4/site-packages/PreFRBLE/physics.py:408: RuntimeWarning: divide by zero encountered in log10\n",
      "  std = np.std( np.log10( data ), axis=axis )\n",
      "/data/PreFRBLE/venv_PreFRBLE/lib/python3.4/site-packages/numpy/core/_methods.py:117: RuntimeWarning: invalid value encountered in subtract\n",
      "  x = asanyarray(arr - arrmean)\n"
     ]
    }
   ],
   "source": [
    "f_IGM = 0.9\n",
    "alpha = 9./3\n",
    "population = 'SMD'\n",
    "telescope = 'CHIME'\n",
    "\n",
    "scenario_test = {\n",
    "    'IGM' : ['primordial'],\n",
    "    'Host': ['Heesen11/dirty'],\n",
    "    'Local': ['Piro18/wind'], \n",
    "}\n",
    "\n",
    "scenario_ref = scenario.copy()\n",
    "#scenario_ref = scenario_IGM.copy()\n",
    "scenario_ref['IGM'] = ['alpha{:.0f}-3rd_C{:.0f}'.format(alpha*3 ,f_IGM*1000)]\n",
    "\n",
    "print( scenario_ref)\n",
    "\n",
    "N_N = 10\n",
    "\n",
    "Ns = (10.**np.linspace(1,5,N_N)).astype('i')\n",
    "\n",
    "tries = 10 # number of repetitions to obtain error on bayes factors\n",
    "\n",
    "measureable = True # consider that RM < RM_min are not observable?\n",
    "\n",
    "Bayes = np.zeros( [ len(alphas), len(Ns) ] )\n",
    "Bayes_std = np.zeros( [ 2, len(alphas), len(Ns) ] )\n",
    "\n",
    "for i_N, N in enumerate(Ns):\n",
    "#for i_N in trange(len(Ns )):\n",
    "#    N = Ns[i_N]\n",
    "    bayes = np.zeros( [ len( alphas ), tries ] )\n",
    "    for i in trange(tries, desc='tries for N={}'.format(N)):\n",
    "#        FRBs_mock = FakeFRBs( measureable=False, measures=['DM','RM'], N=50, telescope=telescope, population=population, **scenario_ref )# **scenario0 )\n",
    "        FRBs_mock = FakeFRBs( measures=['DM','RM'], N=N, telescope=telescope, population=population, measureable=measureable, **scenario_ref )# **scenario0 )\n",
    "        DMs = FRBs_mock['DM']\n",
    "        RMs = FRBs_mock['RM']\n",
    "        zs = FRBs_mock['redshift']\n",
    "\n",
    "    \n",
    "        P0 = LikelihoodCombined( DMs=DMs, RMs=RMs, scenario=scenario_ref, telescope=telescope, population=population, measureable=measureable )\n",
    "        for i_a, alpha in enumerate( alphas ):\n",
    "            tmp = scenario_ref.copy()\n",
    "            tmp['IGM'] = [ 'alpha{:.0f}-3rd_C{:.0f}'.format(alpha*3 ,f_IGM*1000) ]\n",
    "            \n",
    "                \n",
    "#            print(tmp)\n",
    "#            bayes[i_a,i] = BayesFactorCombined( DMs=DMs, RMs=RMs, scenario1=tmp, scenario2=scenario0, population=population, telescope=telescope)\n",
    "            bayes[i_a,i] = 1 if tmp == scenario_ref else np.prod( LikelihoodCombined( DMs=DMs, RMs=RMs, scenario=tmp, telescope=telescope, population=population, measureable=measureable ) / P0 )\n",
    "\n",
    "    Bayes[:,i_N], Bayes_std[:,:,i_N] = LogMeanStd( bayes, axis=1 )"
   ]
  },
  {
   "cell_type": "code",
   "execution_count": 37,
   "metadata": {
    "scrolled": true
   },
   "outputs": [
    {
     "data": {
      "image/png": "[encoded data removed]",
      "text/plain": [
       "<Figure size 432x288 with 2 Axes>"
      ]
     },
     "metadata": {
      "needs_background": "light"
     },
     "output_type": "display_data"
    }
   ],
   "source": [
    "## plot results\n",
    "\n",
    "fig, ax = plt.subplots()\n",
    "plt.loglog()\n",
    "for i_a, color in enumerate( Rainbow(alphas) ):\n",
    "    if i_a % 2:\n",
    "        continue\n",
    "    plt.errorbar( Ns*(1-0.15+0.03*i_a), Bayes[i_a], yerr=Bayes_std[:,i_a], color=color, alpha=0.5, lw=3 )\n",
    "    alpha = alphas[i_a]\n",
    "\n",
    "    \n",
    "#for x, y, alpha in zip( [2e1, 2e2, 1e3, 5e3], [1e-6,1e-6,1e-6,1e-6],  alphas[alphas<5./3] ):\n",
    "#    plt.text( x, y, r\"$\\alpha=\\frac{{{:.0f}}}{{3}}$\".format(alpha*3), fontsize=16)    \n",
    "#plt.text( 3e3, 1e-1, r\"$\\alpha \\geq \\frac{{5}}{{3}}$\", fontsize=16)    \n",
    "\n",
    "Colorbar( alphas, label=r\"$\\alpha$\" )\n",
    "plt.xlabel( r\"$N_{\\rm FRB}$\", fontdict={'size':18 } )\n",
    "plt.ylabel( r\"$\\mathcal{B}$\", fontdict={'size':18 } )\n",
    "plt.ylim(1e-6,2)\n",
    "PlotLimit(ax=ax, x=[Ns[0],Ns[-1]], y=[1e-2,1e-2], lower_limit=False, label='ruled out', arrow_number=3, shift_text_vertical=-9e-3, shift_text_horizontal=-8.99e2)\n",
    "ax.tick_params(axis='both', which='major', labelsize=16)\n",
    "AllSidesTicks(ax)\n",
    "plt.show()"
   ]
  },
  {
   "cell_type": "markdown",
   "metadata": {},
   "source": [
    "The result shows that 1000-2000 FRBs at least have to be observed with $\\rm RM_{EG} \\geq 1 ~rad ~m^{-2}$ in order to improve on current limits on the IGMF, corresponding to $\\alpha=\\frac{1}{3}$, while most values of $\\alpha < \\frac{9}{3}$ can likely be ruled out with few $10^4$, certainly with $10^5$ FRBs with reasonable extragalactic RM.\n",
    "Obviously, this conclusion higly depends on the assumptions and might change considering different models.\n",
    "Still, it certainly shows the potential of FRBs to constrain the IGMF with unprecedented precision, once SKA provides a huge sample of systematically observed FRBs."
   ]
  },
  {
   "cell_type": "code",
   "execution_count": null,
   "metadata": {},
   "outputs": [],
   "source": []
  }
 ],
 "metadata": {
  "kernelspec": {
   "display_name": "Python 3",
   "language": "python",
   "name": "python3"
  },
  "language_info": {
   "codemirror_mode": {
    "name": "ipython",
    "version": 3
   },
   "file_extension": ".py",
   "mimetype": "text/x-python",
   "name": "python",
   "nbconvert_exporter": "python",
   "pygments_lexer": "ipython3",
   "version": "3.4.3"
  }
 },
 "nbformat": 4,
 "nbformat_minor": 2
}
