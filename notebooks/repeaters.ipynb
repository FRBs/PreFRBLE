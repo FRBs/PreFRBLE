{
 "cells": [
  {
   "cell_type": "code",
   "execution_count": 1,
   "metadata": {},
   "outputs": [],
   "source": [
    "import matplotlib\n",
    "%matplotlib inline\n",
    "\n",
    "import numpy as np\n",
    "import PreFRBLE\n",
    "from PreFRBLE.convenience import *\n",
    "from PreFRBLE.plot import *\n",
    "from PreFRBLE.likelihood import *\n",
    "from PreFRBLE.physics import *\n"
   ]
  },
  {
   "cell_type": "markdown",
   "metadata": {},
   "source": [
    "### Repeating FRBs\n",
    "Here we list and investigate those FRBs seen to repeat (not developed yet)"
   ]
  },
  {
   "cell_type": "code",
   "execution_count": 42,
   "metadata": {},
   "outputs": [],
   "source": [
    "repeaters = { # name : [DM, DM_NE2001, DM_YMW16, RM, z, telescope]\n",
    "    \"FRB121102\": [558,188,None,100000,0.19,\"ARECIBO\"], ## 1701.01100\n",
    "    \"FRB180814\": [189,87,100,None,None,\"CHIME\"],  ## 1901.04525\n",
    "#    \"FRB180916\": [349,200,330,None,None,\"CHIME\"], ## 1908.03507 and on\n",
    "    \"FRB181030\": [103,40,32,None,None,\"CHIME\"],\n",
    "    \"FRB181128\": [450,110,150,None,None,\"CHIME\"],\n",
    "    \"FRB181119\": [364,34,26,None,None,\"CHIME\"],\n",
    "    \"FRB190116\": [441,20,20,None,None,\"CHIME\"],\n",
    "    \"FRB181017a\": [1282,43,37,None,None,\"CHIME\"],\n",
    "    \"FRB190209\": [425,46,39,None,None,\"CHIME\"],\n",
    "    \"FRB190222\": [461,87,100,None,None,\"CHIME\"], \n",
    "    \"FRB190208\": [580,72,66,None,None,\"CHIME\"], ## 2001.03595\n",
    "    \"FRB190604\": [553,32,24,20,None,\"CHIME\"],\n",
    "    \"FRB181017b\": [302,40,44,None,None,\"CHIME\"],\n",
    "    \"FRB180908\": [196,38,31,None,None,\"CHIME\"],\n",
    "    \"FRB190117\": [394,48,40,None,None,\"CHIME\"],\n",
    "    \"FRB190110\": [222,29,22,500,None,\"CHIME\"],\n",
    "    \"FRB190417\": [1378,78,80,None,None,\"CHIME\"],\n",
    "    \"FRB190212\": [651,43,34,None,None,\"CHIME\"],\n",
    "    \"FRB190907\": [310,53,51,None,None,\"CHIME\"],\n",
    "    \"FRB180916\": [349,199,325,115,0.0337,\"CHIME\"],## data from FRBcat, 2001.02222 observed to repeat by EVN\n",
    "}"
   ]
  },
  {
   "cell_type": "code",
   "execution_count": 43,
   "metadata": {},
   "outputs": [
    {
     "data": {
      "text/plain": [
       "19"
      ]
     },
     "execution_count": 43,
     "metadata": {},
     "output_type": "execute_result"
    }
   ],
   "source": [
    "len(repeaters)"
   ]
  },
  {
   "cell_type": "code",
   "execution_count": 21,
   "metadata": {},
   "outputs": [],
   "source": [
    "\n",
    "def PlotRedshiftEstimate( DM, redshift_host=None, telescope='CHIME', scenario={}, ax=None ):\n",
    "    ## P(z|DM)*pi(z) with additional estimated z-Marker\n",
    "    print(DM)\n",
    "    if ax is None:\n",
    "        fig, ax = plt.subplots()\n",
    "    for population, linestyle in zip( populations, linestyles_population ):\n",
    "        Ps, z = LikelihoodRedshift( DMs=[DM], population=population, telescope=telescope, scenario=scenario )\n",
    "        PlotLikelihood(x=z, P=Ps[0], measure='z', linestyle=linestyle, ax=ax, density=False)\n",
    "        est, dev = Likelihood2Expectation( x=z, P=Ps[0], log=False, density=True )\n",
    "        ax.errorbar( est, 1e-2, xerr=dev, marker='+', markersize=16, markeredgewidth=2 )\n",
    "    \n",
    "    ax.set_title('obtain estimate')\n",
    "    ax.set_xscale('linear')\n",
    "    if redshift_host is not None:\n",
    "        ax.plot( redshift_host, 1e-2, marker='x', markersize=16, markeredgewidth=2 )\n",
    "    ax.set_xlim(0,1)\n",
    "    ax.set_ylim(2e-3,4)\n",
    "\n"
   ]
  },
  {
   "cell_type": "code",
   "execution_count": 24,
   "metadata": {},
   "outputs": [
    {
     "name": "stdout",
     "output_type": "stream",
     "text": [
      "370\n",
      "150\n"
     ]
    },
    {
     "data": {
      "image/png": "[encoded data removed]",
      "text/plain": [
       "<Figure size 432x288 with 1 Axes>"
      ]
     },
     "metadata": {
      "needs_background": "light"
     },
     "output_type": "display_data"
    },
    {
     "data": {
      "image/png": "[encoded data removed]",
      "text/plain": [
       "<Figure size 432x288 with 1 Axes>"
      ]
     },
     "metadata": {
      "needs_background": "light"
     },
     "output_type": "display_data"
    }
   ],
   "source": [
    "n = \"FRB121102\"\n",
    "for n in [\"FRB121102\", \"FRB180916\"]:\n",
    "    PlotRedshiftEstimate( repeaters[n][0]-repeaters[n][1], redshift_host=repeaters[n][-2], scenario={'IGM':'primordial'} )"
   ]
  },
  {
   "cell_type": "code",
   "execution_count": 45,
   "metadata": {},
   "outputs": [],
   "source": [
    "DMs = []\n",
    "for FRB in repeaters:\n",
    "    DMs.append(repeaters[FRB][0]-repeaters[FRB][1])"
   ]
  },
  {
   "cell_type": "code",
   "execution_count": 46,
   "metadata": {},
   "outputs": [
    {
     "name": "stdout",
     "output_type": "stream",
     "text": [
      "DMs = [330, 1300, 421, 193, 521, 63, 374, 379, 508, 102, 346, 262, 370, 158, 150, 608, 1239, 257, 340]\n"
     ]
    }
   ],
   "source": [
    "print( 'DMs =', DMs)"
   ]
  }
 ],
 "metadata": {
  "kernelspec": {
   "display_name": "Python 3",
   "language": "python",
   "name": "python3"
  },
  "language_info": {
   "codemirror_mode": {
    "name": "ipython",
    "version": 3
   },
   "file_extension": ".py",
   "mimetype": "text/x-python",
   "name": "python",
   "nbconvert_exporter": "python",
   "pygments_lexer": "ipython3",
   "version": "3.4.3"
  }
 },
 "nbformat": 4,
 "nbformat_minor": 2
}
