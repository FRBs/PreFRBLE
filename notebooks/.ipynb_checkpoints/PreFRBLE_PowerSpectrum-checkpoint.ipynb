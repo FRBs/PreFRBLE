{
 "cells": [
  {
   "cell_type": "code",
   "execution_count": 2,
   "metadata": {},
   "outputs": [],
   "source": [
    "import numpy as np\n",
    "import matplotlib.pyplot as plt\n",
    "import yt"
   ]
  },
  {
   "cell_type": "code",
   "execution_count": 4,
   "metadata": {},
   "outputs": [
    {
     "name": "stderr",
     "output_type": "stream",
     "text": [
      "yt : [INFO     ] 2019-10-07 19:11:55,150 Parameters: current_time              = 303.34634\n",
      "yt : [INFO     ] 2019-10-07 19:11:55,151 Parameters: domain_dimensions         = [512 512 512]\n",
      "yt : [INFO     ] 2019-10-07 19:11:55,154 Parameters: domain_left_edge          = [ 0.  0.  0.]\n",
      "yt : [INFO     ] 2019-10-07 19:11:55,157 Parameters: domain_right_edge         = [ 1.  1.  1.]\n",
      "yt : [INFO     ] 2019-10-07 19:11:55,159 Parameters: cosmological_simulation   = 1\n",
      "yt : [INFO     ] 2019-10-07 19:11:55,161 Parameters: current_redshift          = 0.019999743\n",
      "yt : [INFO     ] 2019-10-07 19:11:55,163 Parameters: omega_lambda              = 0.692885\n",
      "yt : [INFO     ] 2019-10-07 19:11:55,165 Parameters: omega_matter              = 0.307115\n",
      "yt : [INFO     ] 2019-10-07 19:11:55,166 Parameters: hubble_constant           = 0.6777\n",
      "Parsing Hierarchy : 100%|██████████| 38339/38339 [00:14<00:00, 2614.06it/s]\n",
      "yt : [INFO     ] 2019-10-07 19:12:11,962 Gathering a field list (this may take a moment.)\n"
     ]
    },
    {
     "ename": "AttributeError",
     "evalue": "'EnzoDataset' object has no attribute 'ref_factors'",
     "output_type": "error",
     "traceback": [
      "\u001b[1;31m---------------------------------------------------------------------------\u001b[0m",
      "\u001b[1;31mAttributeError\u001b[0m                            Traceback (most recent call last)",
      "\u001b[1;32m<ipython-input-4-a183fb9aa9b1>\u001b[0m in \u001b[0;36m<module>\u001b[1;34m()\u001b[0m\n\u001b[0;32m    111\u001b[0m \u001b[1;33m\u001b[0m\u001b[0m\n\u001b[0;32m    112\u001b[0m \u001b[0mds\u001b[0m \u001b[1;33m=\u001b[0m \u001b[0myt\u001b[0m\u001b[1;33m.\u001b[0m\u001b[0mload\u001b[0m\u001b[1;33m(\u001b[0m\u001b[1;34m\"/hummel/MHD-models/clues/2018/primordial/RD0021/RD0021\"\u001b[0m\u001b[1;33m)\u001b[0m\u001b[1;33m\u001b[0m\u001b[0m\n\u001b[1;32m--> 113\u001b[1;33m \u001b[0mdoit\u001b[0m\u001b[1;33m(\u001b[0m\u001b[0mds\u001b[0m\u001b[1;33m)\u001b[0m\u001b[1;33m\u001b[0m\u001b[0m\n\u001b[0m",
      "\u001b[1;32m<ipython-input-4-a183fb9aa9b1>\u001b[0m in \u001b[0;36mdoit\u001b[1;34m(ds)\u001b[0m\n\u001b[0;32m     28\u001b[0m     \u001b[0mmax_level\u001b[0m \u001b[1;33m=\u001b[0m \u001b[0mds\u001b[0m\u001b[1;33m.\u001b[0m\u001b[0mindex\u001b[0m\u001b[1;33m.\u001b[0m\u001b[0mmax_level\u001b[0m\u001b[1;33m\u001b[0m\u001b[0m\n\u001b[0;32m     29\u001b[0m \u001b[1;33m\u001b[0m\u001b[0m\n\u001b[1;32m---> 30\u001b[1;33m     \u001b[0mref\u001b[0m \u001b[1;33m=\u001b[0m \u001b[0mint\u001b[0m\u001b[1;33m(\u001b[0m\u001b[0mnp\u001b[0m\u001b[1;33m.\u001b[0m\u001b[0mproduct\u001b[0m\u001b[1;33m(\u001b[0m\u001b[0mds\u001b[0m\u001b[1;33m.\u001b[0m\u001b[0mref_factors\u001b[0m\u001b[1;33m[\u001b[0m\u001b[1;36m0\u001b[0m\u001b[1;33m:\u001b[0m\u001b[0mmax_level\u001b[0m\u001b[1;33m]\u001b[0m\u001b[1;33m)\u001b[0m\u001b[1;33m)\u001b[0m\u001b[1;33m\u001b[0m\u001b[0m\n\u001b[0m\u001b[0;32m     31\u001b[0m \u001b[1;33m\u001b[0m\u001b[0m\n\u001b[0;32m     32\u001b[0m     \u001b[0mlow\u001b[0m \u001b[1;33m=\u001b[0m \u001b[0mds\u001b[0m\u001b[1;33m.\u001b[0m\u001b[0mdomain_left_edge\u001b[0m\u001b[1;33m\u001b[0m\u001b[0m\n",
      "\u001b[1;31mAttributeError\u001b[0m: 'EnzoDataset' object has no attribute 'ref_factors'"
     ]
    }
   ],
   "source": [
    "\"\"\"\n",
    "Make a turbulent KE power spectrum.  Since we are stratified, we use\n",
    "a rho**(1/3) scaling to the velocity to get something that would\n",
    "look Kolmogorov (if the turbulence were fully developed).\n",
    "\n",
    "Ultimately, we aim to compute:\n",
    "\n",
    "                      1  ^      ^*\n",
    "     E(k) = integral  -  V(k) . V(k) dS\n",
    "                      2\n",
    "\n",
    "             n                                               ^\n",
    "where V = rho  U is the density-weighted velocity field, and V is the\n",
    "FFT of V.\n",
    "\n",
    "(Note: sometimes we normalize by 1/volume to get a spectral\n",
    "energy density spectrum).\n",
    "\n",
    "\n",
    "\"\"\"\n",
    "\n",
    "\n",
    "def doit(ds):\n",
    "\n",
    "    # a FFT operates on uniformly gridded data.  We'll use the yt\n",
    "    # covering grid for this.\n",
    "\n",
    "    max_level = ds.index.max_level\n",
    "\n",
    "    # ref = int(np.product(ds.ref_factors[0:max_level]))\n",
    "    ### depreciated, ds.ref_factors doesn't exist\n",
    "\n",
    "    low = ds.domain_left_edge\n",
    "    dims = ds.domain_dimensions*ref\n",
    "\n",
    "    nx, ny, nz = dims\n",
    "\n",
    "    nindex_rho = 1./3.\n",
    "\n",
    "    Kk = np.zeros( (nx//2+1, ny//2+1, nz//2+1))\n",
    "\n",
    "    for vel in [(\"gas\", \"velocity_x\"), (\"gas\", \"velocity_y\"),\n",
    "                (\"gas\", \"velocity_z\")]:\n",
    "\n",
    "        Kk += 0.5*fft_comp(ds, (\"gas\", \"density\"), vel,\n",
    "                           nindex_rho, max_level, low, dims)\n",
    "\n",
    "    # wavenumbers\n",
    "    L = (ds.domain_right_edge - ds.domain_left_edge).d\n",
    "\n",
    "    kx = np.fft.rfftfreq(nx)*nx/L[0]\n",
    "    ky = np.fft.rfftfreq(ny)*ny/L[1]\n",
    "    kz = np.fft.rfftfreq(nz)*nz/L[2]\n",
    "\n",
    "    # physical limits to the wavenumbers\n",
    "    kmin = np.min(1.0/L)\n",
    "    kmax = np.min(0.5*dims/L)\n",
    "\n",
    "    kbins = np.arange(kmin, kmax, kmin)\n",
    "    N = len(kbins)\n",
    "\n",
    "    # bin the Fourier KE into radial kbins\n",
    "    kx3d, ky3d, kz3d = np.meshgrid(kx, ky, kz, indexing=\"ij\")\n",
    "    k = np.sqrt(kx3d**2 + ky3d**2 + kz3d**2)\n",
    "\n",
    "    whichbin = np.digitize(k.flat, kbins)\n",
    "    ncount = np.bincount(whichbin)\n",
    "\n",
    "    E_spectrum = np.zeros(len(ncount)-1)\n",
    "\n",
    "    for n in range(1,len(ncount)):\n",
    "        E_spectrum[n-1] = np.sum(Kk.flat[whichbin==n])\n",
    "\n",
    "    k = 0.5*(kbins[0:N-1] + kbins[1:N])\n",
    "    E_spectrum = E_spectrum[1:N]\n",
    "\n",
    "    index = np.argmax(E_spectrum)\n",
    "    kmax = k[index]\n",
    "    Emax = E_spectrum[index]\n",
    "\n",
    "    plt.loglog(k, E_spectrum)\n",
    "    plt.loglog(k, Emax*(k/kmax)**(-5./3.), ls=\":\", color=\"0.5\")\n",
    "\n",
    "    plt.xlabel(r\"$k$\")\n",
    "    plt.ylabel(r\"$E(k)dk$\")\n",
    "\n",
    "    plt.savefig(\"spectrum.png\")\n",
    "\n",
    "\n",
    "def fft_comp(ds, irho, iu, nindex_rho, level, low, delta ):\n",
    "\n",
    "    cube = ds.covering_grid(level, left_edge=low,\n",
    "                            dims=delta,\n",
    "                            fields=[irho, iu])\n",
    "\n",
    "    rho = cube[irho].d\n",
    "    u = cube[iu].d\n",
    "\n",
    "    nx, ny, nz = rho.shape\n",
    "\n",
    "    # do the FFTs -- note that since our data is real, there will be\n",
    "    # too much information here.  fftn puts the positive freq terms in\n",
    "    # the first half of the axes -- that's what we keep.  Our\n",
    "    # normalization has an '8' to account for this clipping to one\n",
    "    # octant.\n",
    "    ru = np.fft.fftn(rho**nindex_rho * u)[0:nx//2+1,0:ny//2+1,0:nz//2+1]\n",
    "    ru = 8.0*ru/(nx*ny*nz)\n",
    "\n",
    "    return np.abs(ru)**2\n",
    "\n",
    "\n",
    "\n",
    "ds = yt.load(\"/hummel/MHD-models/clues/2018/primordial/RD0021/RD0021\")\n",
    "doit(ds)"
   ]
  },
  {
   "cell_type": "code",
   "execution_count": 13,
   "metadata": {},
   "outputs": [
    {
     "name": "stdout",
     "output_type": "stream",
     "text": [
      "5 [512 512 512]\n"
     ]
    }
   ],
   "source": [
    "print ds.index.max_level, ds.domain_dimensions"
   ]
  }
 ],
 "metadata": {
  "kernelspec": {
   "display_name": "Python 2",
   "language": "python",
   "name": "python2"
  },
  "language_info": {
   "codemirror_mode": {
    "name": "ipython",
    "version": 2
   },
   "file_extension": ".py",
   "mimetype": "text/x-python",
   "name": "python",
   "nbconvert_exporter": "python",
   "pygments_lexer": "ipython2",
   "version": "2.7.6"
  }
 },
 "nbformat": 4,
 "nbformat_minor": 2
}
